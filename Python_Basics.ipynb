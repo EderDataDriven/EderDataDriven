{
  "nbformat": 4,
  "nbformat_minor": 0,
  "metadata": {
    "colab": {
      "name": "Python Basics.ipynb",
      "provenance": [],
      "authorship_tag": "ABX9TyPsYbrofGdHJkd5rYOaMpJc",
      "include_colab_link": true
    },
    "kernelspec": {
      "name": "python3",
      "display_name": "Python 3"
    },
    "language_info": {
      "name": "python"
    }
  },
  "cells": [
    {
      "cell_type": "markdown",
      "metadata": {
        "id": "view-in-github",
        "colab_type": "text"
      },
      "source": [
        "<a href=\"https://colab.research.google.com/github/EderDataDriven/EderDataDriven/blob/main/Python_Basics.ipynb\" target=\"_parent\"><img src=\"https://colab.research.google.com/assets/colab-badge.svg\" alt=\"Open In Colab\"/></a>"
      ]
    },
    {
      "cell_type": "markdown",
      "source": [
        "# Python \n",
        "Guía Rápida\n",
        "[PEP 8 ](https://ellibrodepython.com/python-pep8)\n",
        "\n",
        "[dataset](https://raw.githubusercontent.com/jsaraujo5081/CursoPythonConfenalco/data/Data_Matriculacion.csv)"
      ],
      "metadata": {
        "id": "af-uWc-FpCHf"
      }
    },
    {
      "cell_type": "markdown",
      "source": [
        "# ¿Qué es python?\n",
        "Python es un lenguaje de programacion interpretado, multi paradigma y creado para hacer de la programación una implementación mas sencilla de sentencias."
      ],
      "metadata": {
        "id": "GNul20iqsRHb"
      }
    },
    {
      "cell_type": "markdown",
      "source": [
        "# Variables"
      ],
      "metadata": {
        "id": "zBzhLiW_538T"
      }
    },
    {
      "cell_type": "code",
      "execution_count": null,
      "metadata": {
        "id": "cTjOqJRno9w7",
        "colab": {
          "base_uri": "https://localhost:8080/",
          "height": 35
        },
        "outputId": "324d20f6-469e-419e-97de-d448e377a036"
      },
      "outputs": [
        {
          "output_type": "execute_result",
          "data": {
            "text/plain": [
              "'este es un Mensaje'"
            ],
            "application/vnd.google.colaboratory.intrinsic+json": {
              "type": "string"
            }
          },
          "metadata": {},
          "execution_count": 33
        }
      ],
      "source": [
        "x = 2.4\n",
        "y = \"este es un Mensaje\"\n",
        "y"
      ]
    },
    {
      "cell_type": "code",
      "source": [
        "x"
      ],
      "metadata": {
        "colab": {
          "base_uri": "https://localhost:8080/"
        },
        "id": "FRViCBck6mUS",
        "outputId": "003284ce-97d9-436b-c332-b4379d32cd09"
      },
      "execution_count": null,
      "outputs": [
        {
          "output_type": "execute_result",
          "data": {
            "text/plain": [
              "2.4"
            ]
          },
          "metadata": {},
          "execution_count": 34
        }
      ]
    },
    {
      "cell_type": "code",
      "source": [
        "print(x)\n",
        "print(y)"
      ],
      "metadata": {
        "colab": {
          "base_uri": "https://localhost:8080/"
        },
        "id": "s08q22Tn6qkB",
        "outputId": "6be5eb52-b98d-4050-eea4-485ffaec45ff"
      },
      "execution_count": null,
      "outputs": [
        {
          "output_type": "stream",
          "name": "stdout",
          "text": [
            "2.4\n",
            "este es un Mensaje\n"
          ]
        }
      ]
    },
    {
      "cell_type": "code",
      "source": [
        "print(x, y)"
      ],
      "metadata": {
        "colab": {
          "base_uri": "https://localhost:8080/"
        },
        "id": "6ncqBlJu6x-W",
        "outputId": "c6692f3e-948e-4a00-fa32-0e6bd44b5ad7"
      },
      "execution_count": null,
      "outputs": [
        {
          "output_type": "stream",
          "name": "stdout",
          "text": [
            "2.4 este es un Mensaje\n"
          ]
        }
      ]
    },
    {
      "cell_type": "code",
      "source": [
        "print(type(x))\n",
        "z = 2,2\n",
        "m = 2\n",
        "print(type(z))\n",
        "print(z)"
      ],
      "metadata": {
        "colab": {
          "base_uri": "https://localhost:8080/"
        },
        "id": "w5SK2Wg068Qf",
        "outputId": "98ac6757-c741-4ce1-8d8f-cfde49a72385"
      },
      "execution_count": null,
      "outputs": [
        {
          "output_type": "stream",
          "name": "stdout",
          "text": [
            "<class 'float'>\n",
            "<class 'tuple'>\n",
            "(2, 2)\n"
          ]
        }
      ]
    },
    {
      "cell_type": "code",
      "source": [
        "z = 3\n",
        "z"
      ],
      "metadata": {
        "colab": {
          "base_uri": "https://localhost:8080/"
        },
        "id": "m-hcLI8-8qgx",
        "outputId": "5f10c0ae-90a4-4aef-8c73-2609da1d6135"
      },
      "execution_count": null,
      "outputs": [
        {
          "output_type": "execute_result",
          "data": {
            "text/plain": [
              "3"
            ]
          },
          "metadata": {},
          "execution_count": 38
        }
      ]
    },
    {
      "cell_type": "code",
      "source": [
        "print(z)"
      ],
      "metadata": {
        "colab": {
          "base_uri": "https://localhost:8080/"
        },
        "id": "rVuNrK9884Zl",
        "outputId": "e8a48b79-6896-4a13-8d1a-ff6dafcda8ed"
      },
      "execution_count": null,
      "outputs": [
        {
          "output_type": "stream",
          "name": "stdout",
          "text": [
            "3\n"
          ]
        }
      ]
    },
    {
      "cell_type": "markdown",
      "source": [
        "# Variables lógicas"
      ],
      "metadata": {
        "id": "7dwFZ6ow9YhL"
      }
    },
    {
      "cell_type": "code",
      "source": [
        "\"\"\"\n",
        "Comentario tipo Parrafo\n",
        "Las variables lógicas hacen parte de la clase booleanas, es decir me retornan \n",
        "verdadero o falso\n",
        "\"\"\"\n",
        "\n",
        "a = 2\n",
        "b = 2\n",
        "print(a == 2 and b == 2)   # a \"y\" b son iguales a 2\n",
        "print(a != 3 or b != 3)    # a \"o\" b son son diferentes a 3\n",
        "\n",
        "\n",
        "\"\"\"\n",
        "los dos signos == hacen referencia a una comparación, \n",
        "mientras que uno solo = indica que es una asignación.\n",
        "el signo != significa diferente.\n",
        "\"\"\" "
      ],
      "metadata": {
        "colab": {
          "base_uri": "https://localhost:8080/",
          "height": 87
        },
        "id": "EkbLsF-a9Fvz",
        "outputId": "9f5d9683-c372-4871-d946-c8592abd7e17"
      },
      "execution_count": null,
      "outputs": [
        {
          "output_type": "stream",
          "name": "stdout",
          "text": [
            "True\n",
            "True\n"
          ]
        },
        {
          "output_type": "execute_result",
          "data": {
            "text/plain": [
              "'\\nlos dos signos == hacen referencia a una comparación, \\nmientras que uno solo = indica que es una asignación.\\nel signo != significa diferente.\\n'"
            ],
            "application/vnd.google.colaboratory.intrinsic+json": {
              "type": "string"
            }
          },
          "metadata": {},
          "execution_count": 58
        }
      ]
    },
    {
      "cell_type": "markdown",
      "source": [
        "# Colecciones en Python (Objetos)\n",
        "Una colección es una forma de organizar multiples valores en un variables, tuplas, listas, diccionarios, conjuntos, etc"
      ],
      "metadata": {
        "id": "B2E_bXADBvqT"
      }
    },
    {
      "cell_type": "code",
      "source": [
        "# Tuplas:\n",
        "c = 2,4, 2.5, 4, 1 , 6 , 3 , 0, 'Hola'\n",
        "print(c, type(c))"
      ],
      "metadata": {
        "colab": {
          "base_uri": "https://localhost:8080/"
        },
        "id": "MUNcFkDFBsW5",
        "outputId": "f82c2677-5794-45d2-e7c6-5b0fd320edc9"
      },
      "execution_count": null,
      "outputs": [
        {
          "output_type": "stream",
          "name": "stdout",
          "text": [
            "(2, 4, 2.5, 4, 1, 6, 3, 0, 'Hola') <class 'tuple'>\n"
          ]
        }
      ]
    },
    {
      "cell_type": "code",
      "source": [
        "# Listas:\n",
        "d = [8,'Hola', 3.7, 'Alumno']\n",
        "print(d, type(d))\n",
        "# Agregando elementos a la lista:\n",
        "d.append('Del ITM')\n",
        "print(d)\n",
        "e = ['6', 4, 2.9]\n",
        "print(e)\n",
        "f = d + e\n",
        "print(f)"
      ],
      "metadata": {
        "colab": {
          "base_uri": "https://localhost:8080/"
        },
        "id": "cRHTTdyZ-cDh",
        "outputId": "e51ab3b7-b295-4983-c7f4-ce6c8cde9245"
      },
      "execution_count": null,
      "outputs": [
        {
          "output_type": "stream",
          "name": "stdout",
          "text": [
            "[8, 'Hola', 3.7, 'Alumno'] <class 'list'>\n",
            "[8, 'Hola', 3.7, 'Alumno', 'Del ITM']\n",
            "['6', 4, 2.9]\n",
            "[8, 'Hola', 3.7, 'Alumno', 'Del ITM', '6', 4, 2.9]\n"
          ]
        }
      ]
    },
    {
      "cell_type": "code",
      "source": [
        "# Diccionarios\n",
        "g = {'clave': 'valor', 9: True}\n",
        "g"
      ],
      "metadata": {
        "colab": {
          "base_uri": "https://localhost:8080/"
        },
        "id": "Qjrt0Q7NDsXP",
        "outputId": "9a2cec40-ecc5-4aaf-b32e-32a95cc77559"
      },
      "execution_count": null,
      "outputs": [
        {
          "output_type": "execute_result",
          "data": {
            "text/plain": [
              "{9: True, 'clave': 'valor'}"
            ]
          },
          "metadata": {},
          "execution_count": 71
        }
      ]
    },
    {
      "cell_type": "markdown",
      "source": [
        "# Operadores en python"
      ],
      "metadata": {
        "id": "SNRGSe1SEmtj"
      }
    },
    {
      "cell_type": "code",
      "source": [
        "# Sumar= +\n",
        "print(3 + 4)\n",
        "\n",
        "# Restar= -\n",
        "print(3 - 4)\n",
        "\n",
        "# Multiplicar= *\n",
        "print(3 * 4)\n",
        "\n",
        "# Dividir= /\n",
        "print(12 / 4)\n",
        "\n",
        "# DividirAbsoluto= //\n",
        "print(10 // 3)\n",
        "\n",
        "# Residuos(Mod)= %\n",
        "print(10 % 6)"
      ],
      "metadata": {
        "colab": {
          "base_uri": "https://localhost:8080/"
        },
        "id": "9JaVb-CQEmTb",
        "outputId": "74725e23-98d0-486d-9996-597acced6b04"
      },
      "execution_count": 88,
      "outputs": [
        {
          "output_type": "stream",
          "name": "stdout",
          "text": [
            "7\n",
            "-1\n",
            "12\n",
            "3.0\n",
            "3\n",
            "4\n"
          ]
        }
      ]
    },
    {
      "cell_type": "markdown",
      "source": [
        "# Operaciones con Listas"
      ],
      "metadata": {
        "id": "Re1mH697MDWW"
      }
    },
    {
      "cell_type": "code",
      "source": [
        "lista_tareas = ['Lavar', 'Limpiar', 'Cocinar']\n",
        "print(lista_tareas)"
      ],
      "metadata": {
        "colab": {
          "base_uri": "https://localhost:8080/"
        },
        "id": "hNiZmHPfL8Gn",
        "outputId": "e7b982a6-0d75-4372-fc0c-1b4b6c8e11af"
      },
      "execution_count": 90,
      "outputs": [
        {
          "output_type": "stream",
          "name": "stdout",
          "text": [
            "['Lavar', 'Limpiar', 'Cocinar']\n"
          ]
        }
      ]
    },
    {
      "cell_type": "code",
      "source": [
        "h = 'Lorem ipsum parten'\n",
        "i = 2,3\n",
        "print(type(i))\n",
        "len(i)"
      ],
      "metadata": {
        "colab": {
          "base_uri": "https://localhost:8080/"
        },
        "id": "DMSBoNPVOjzp",
        "outputId": "22ed14e4-eb47-4299-aeac-e701075c6ebb"
      },
      "execution_count": 104,
      "outputs": [
        {
          "output_type": "stream",
          "name": "stdout",
          "text": [
            "<class 'tuple'>\n"
          ]
        },
        {
          "output_type": "execute_result",
          "data": {
            "text/plain": [
              "2"
            ]
          },
          "metadata": {},
          "execution_count": 104
        }
      ]
    },
    {
      "cell_type": "markdown",
      "source": [
        "## Indexación en listas \n",
        "El indice hace referencia a una pocisión. Es decir a una ubicación espacial dentro de la variable"
      ],
      "metadata": {
        "id": "-6WXiT2JMjAj"
      }
    },
    {
      "cell_type": "code",
      "source": [
        "lista_tareas[2]"
      ],
      "metadata": {
        "colab": {
          "base_uri": "https://localhost:8080/",
          "height": 35
        },
        "id": "o2WZ5lsJMiIG",
        "outputId": "61006fa1-0e73-43a9-a614-ae141edeaeff"
      },
      "execution_count": 92,
      "outputs": [
        {
          "output_type": "execute_result",
          "data": {
            "text/plain": [
              "'Cocinar'"
            ],
            "application/vnd.google.colaboratory.intrinsic+json": {
              "type": "string"
            }
          },
          "metadata": {},
          "execution_count": 92
        }
      ]
    },
    {
      "cell_type": "code",
      "source": [
        "# Ver el tamaño de la lista:\n",
        "len(lista_tareas)         # len() es la función que me mide el tamaño de una variable de texto o objeto\n",
        "# Agregar elementos a la lista:\n",
        "lista_tareas.append('Barrer')\n",
        "\n",
        "print(lista_tareas,\"\\n\", len(lista_tareas))"
      ],
      "metadata": {
        "colab": {
          "base_uri": "https://localhost:8080/"
        },
        "id": "YoP39ZlJNWAu",
        "outputId": "28780c12-fb0c-421c-ca7a-29686cb50555"
      },
      "execution_count": 105,
      "outputs": [
        {
          "output_type": "stream",
          "name": "stdout",
          "text": [
            "['Lavar', 'Limpiar', 'Cocinar', 'Barrer'] \n",
            " 4\n"
          ]
        }
      ]
    },
    {
      "cell_type": "code",
      "source": [
        "# Medir el tamaño de un elemento de la lista\n",
        "print(len(lista_tareas[3]))     "
      ],
      "metadata": {
        "colab": {
          "base_uri": "https://localhost:8080/"
        },
        "id": "Lu6fsjuBPLrN",
        "outputId": "5fdec559-3234-40b7-f86a-9f1614d767a2"
      },
      "execution_count": 109,
      "outputs": [
        {
          "output_type": "stream",
          "name": "stdout",
          "text": [
            "6\n"
          ]
        }
      ]
    },
    {
      "cell_type": "code",
      "source": [
        ""
      ],
      "metadata": {
        "id": "BqsZpWiFP0BX"
      },
      "execution_count": null,
      "outputs": []
    }
  ]
}