{
  "nbformat": 4,
  "nbformat_minor": 0,
  "metadata": {
    "colab": {
      "name": "Python Basics.ipynb",
      "provenance": [],
      "collapsed_sections": [],
      "authorship_tag": "ABX9TyMzf6Vw0hl/FS4BxnGL/UiB",
      "include_colab_link": true
    },
    "kernelspec": {
      "name": "python3",
      "display_name": "Python 3"
    },
    "language_info": {
      "name": "python"
    }
  },
  "cells": [
    {
      "cell_type": "markdown",
      "metadata": {
        "id": "view-in-github",
        "colab_type": "text"
      },
      "source": [
        "<a href=\"https://colab.research.google.com/github/EderDataDriven/EderDataDriven/blob/main/Python_Basics.ipynb\" target=\"_parent\"><img src=\"https://colab.research.google.com/assets/colab-badge.svg\" alt=\"Open In Colab\"/></a>"
      ]
    },
    {
      "cell_type": "markdown",
      "source": [
        "# Python \n",
        "Guía Rápida\n",
        "[PEP 8 ](https://ellibrodepython.com/python-pep8)\n",
        "\n",
        "[dataset](https://raw.githubusercontent.com/jsaraujo5081/CursoPythonConfenalco/data/Data_Matriculacion.csv)"
      ],
      "metadata": {
        "id": "af-uWc-FpCHf"
      }
    },
    {
      "cell_type": "markdown",
      "source": [
        "# ¿Qué es python?\n",
        "Python es un lenguaje de programacion interpretado, multi paradigma y creado para hacer de la programación una implementación mas sencilla de sentencias."
      ],
      "metadata": {
        "id": "GNul20iqsRHb"
      }
    },
    {
      "cell_type": "markdown",
      "source": [
        "# Variables"
      ],
      "metadata": {
        "id": "zBzhLiW_538T"
      }
    },
    {
      "cell_type": "code",
      "execution_count": 159,
      "metadata": {
        "id": "cTjOqJRno9w7",
        "colab": {
          "base_uri": "https://localhost:8080/",
          "height": 35
        },
        "outputId": "876ea341-9480-4c2d-c9ef-71cad492f317"
      },
      "outputs": [
        {
          "output_type": "execute_result",
          "data": {
            "text/plain": [
              "'este es un Mensaje'"
            ],
            "application/vnd.google.colaboratory.intrinsic+json": {
              "type": "string"
            }
          },
          "metadata": {},
          "execution_count": 159
        }
      ],
      "source": [
        "x = 2.4\n",
        "y = \"este es un Mensaje\"\n",
        "y"
      ]
    },
    {
      "cell_type": "code",
      "source": [
        "x"
      ],
      "metadata": {
        "colab": {
          "base_uri": "https://localhost:8080/"
        },
        "id": "FRViCBck6mUS",
        "outputId": "7f481573-4e59-4d3c-b1ce-c0837d51b093"
      },
      "execution_count": 160,
      "outputs": [
        {
          "output_type": "execute_result",
          "data": {
            "text/plain": [
              "2.4"
            ]
          },
          "metadata": {},
          "execution_count": 160
        }
      ]
    },
    {
      "cell_type": "code",
      "source": [
        "print(x)\n",
        "print(y)"
      ],
      "metadata": {
        "colab": {
          "base_uri": "https://localhost:8080/"
        },
        "id": "s08q22Tn6qkB",
        "outputId": "7b3dd507-dd72-42d7-c8ee-0ccbb8d66a57"
      },
      "execution_count": 161,
      "outputs": [
        {
          "output_type": "stream",
          "name": "stdout",
          "text": [
            "2.4\n",
            "este es un Mensaje\n"
          ]
        }
      ]
    },
    {
      "cell_type": "code",
      "source": [
        "print(x, y)"
      ],
      "metadata": {
        "colab": {
          "base_uri": "https://localhost:8080/"
        },
        "id": "6ncqBlJu6x-W",
        "outputId": "1dc9edb6-4be1-4f9e-b8c9-2a35b75d87bd"
      },
      "execution_count": 162,
      "outputs": [
        {
          "output_type": "stream",
          "name": "stdout",
          "text": [
            "2.4 este es un Mensaje\n"
          ]
        }
      ]
    },
    {
      "cell_type": "code",
      "source": [
        "print(type(x))\n",
        "z = 2,2\n",
        "m = 2\n",
        "print(type(z))\n",
        "print(z)"
      ],
      "metadata": {
        "colab": {
          "base_uri": "https://localhost:8080/"
        },
        "id": "w5SK2Wg068Qf",
        "outputId": "b7237f7d-2ac4-4419-8184-8c52d223a7ac"
      },
      "execution_count": 163,
      "outputs": [
        {
          "output_type": "stream",
          "name": "stdout",
          "text": [
            "<class 'float'>\n",
            "<class 'tuple'>\n",
            "(2, 2)\n"
          ]
        }
      ]
    },
    {
      "cell_type": "code",
      "source": [
        "z = 3\n",
        "z"
      ],
      "metadata": {
        "colab": {
          "base_uri": "https://localhost:8080/"
        },
        "id": "m-hcLI8-8qgx",
        "outputId": "2b081a12-0152-43a9-e958-03fc2a39a454"
      },
      "execution_count": 164,
      "outputs": [
        {
          "output_type": "execute_result",
          "data": {
            "text/plain": [
              "3"
            ]
          },
          "metadata": {},
          "execution_count": 164
        }
      ]
    },
    {
      "cell_type": "code",
      "source": [
        "print(z)"
      ],
      "metadata": {
        "colab": {
          "base_uri": "https://localhost:8080/"
        },
        "id": "rVuNrK9884Zl",
        "outputId": "b1a9df34-2636-409b-a872-ce1aaeebf299"
      },
      "execution_count": 165,
      "outputs": [
        {
          "output_type": "stream",
          "name": "stdout",
          "text": [
            "3\n"
          ]
        }
      ]
    },
    {
      "cell_type": "markdown",
      "source": [
        "# Variables lógicas"
      ],
      "metadata": {
        "id": "7dwFZ6ow9YhL"
      }
    },
    {
      "cell_type": "code",
      "source": [
        "\"\"\"\n",
        "Comentario tipo Parrafo\n",
        "Las variables lógicas hacen parte de la clase booleanas, es decir me retornan \n",
        "verdadero o falso\n",
        "\"\"\"\n",
        "\n",
        "a = 2\n",
        "b = 2\n",
        "print(a == 2 and b == 2)   # a \"y\" b son iguales a 2\n",
        "print(a != 3 or b != 3)    # a \"o\" b son son diferentes a 3\n",
        "\n",
        "\n",
        "\"\"\"\n",
        "los dos signos == hacen referencia a una comparación, \n",
        "mientras que uno solo = indica que es una asignación.\n",
        "el signo != significa diferente.\n",
        "\"\"\" "
      ],
      "metadata": {
        "colab": {
          "base_uri": "https://localhost:8080/",
          "height": 87
        },
        "id": "EkbLsF-a9Fvz",
        "outputId": "e252850b-b18a-4069-94ae-ed89e4c6426a"
      },
      "execution_count": 166,
      "outputs": [
        {
          "output_type": "stream",
          "name": "stdout",
          "text": [
            "True\n",
            "True\n"
          ]
        },
        {
          "output_type": "execute_result",
          "data": {
            "text/plain": [
              "'\\nlos dos signos == hacen referencia a una comparación, \\nmientras que uno solo = indica que es una asignación.\\nel signo != significa diferente.\\n'"
            ],
            "application/vnd.google.colaboratory.intrinsic+json": {
              "type": "string"
            }
          },
          "metadata": {},
          "execution_count": 166
        }
      ]
    },
    {
      "cell_type": "markdown",
      "source": [
        "# Colecciones en Python (Objetos)\n",
        "Una colección es una forma de organizar multiples valores en un variables, tuplas, listas, diccionarios, conjuntos, etc"
      ],
      "metadata": {
        "id": "B2E_bXADBvqT"
      }
    },
    {
      "cell_type": "code",
      "source": [
        "# Tuplas:\n",
        "c = 2,4, 2.5, 4, 1 , 6 , 3 , 0, 'Hola'\n",
        "print(c, type(c))"
      ],
      "metadata": {
        "colab": {
          "base_uri": "https://localhost:8080/"
        },
        "id": "MUNcFkDFBsW5",
        "outputId": "a6e988ed-3f17-49d7-bc21-ec83c90005c0"
      },
      "execution_count": 167,
      "outputs": [
        {
          "output_type": "stream",
          "name": "stdout",
          "text": [
            "(2, 4, 2.5, 4, 1, 6, 3, 0, 'Hola') <class 'tuple'>\n"
          ]
        }
      ]
    },
    {
      "cell_type": "code",
      "source": [
        "# Listas:\n",
        "d = [8,'Hola', 3.7, 'Alumno']\n",
        "print(d, type(d))\n",
        "# Agregando elementos a la lista:\n",
        "d.append('Del ITM')\n",
        "print(d)\n",
        "e = ['6', 4, 2.9]\n",
        "print(e)\n",
        "f = d + e\n",
        "print(f)"
      ],
      "metadata": {
        "colab": {
          "base_uri": "https://localhost:8080/"
        },
        "id": "cRHTTdyZ-cDh",
        "outputId": "1b1e10f7-540f-4dce-97f7-c824eaba50aa"
      },
      "execution_count": 168,
      "outputs": [
        {
          "output_type": "stream",
          "name": "stdout",
          "text": [
            "[8, 'Hola', 3.7, 'Alumno'] <class 'list'>\n",
            "[8, 'Hola', 3.7, 'Alumno', 'Del ITM']\n",
            "['6', 4, 2.9]\n",
            "[8, 'Hola', 3.7, 'Alumno', 'Del ITM', '6', 4, 2.9]\n"
          ]
        }
      ]
    },
    {
      "cell_type": "code",
      "source": [
        "# Diccionarios\n",
        "g = {'clave': 'valor', 9: True}\n",
        "print(g, type(g))"
      ],
      "metadata": {
        "colab": {
          "base_uri": "https://localhost:8080/"
        },
        "id": "Qjrt0Q7NDsXP",
        "outputId": "e78cbad6-12d3-4237-e57d-69bb14d9c9ab"
      },
      "execution_count": 169,
      "outputs": [
        {
          "output_type": "stream",
          "name": "stdout",
          "text": [
            "{'clave': 'valor', 9: True} <class 'dict'>\n"
          ]
        }
      ]
    },
    {
      "cell_type": "markdown",
      "source": [
        "# Operadores en python"
      ],
      "metadata": {
        "id": "SNRGSe1SEmtj"
      }
    },
    {
      "cell_type": "code",
      "source": [
        "# Sumar= +\n",
        "print(3 + 4)\n",
        "\n",
        "# Restar= -\n",
        "print(3 - 4)\n",
        "\n",
        "# Multiplicar= *\n",
        "print(3 * 4)\n",
        "\n",
        "# Dividir= /\n",
        "print(12 / 4)\n",
        "\n",
        "# DividirAbsoluto= //\n",
        "print(10 // 3)\n",
        "\n",
        "# Residuos(Mod)= %\n",
        "print(10 % 6)"
      ],
      "metadata": {
        "colab": {
          "base_uri": "https://localhost:8080/"
        },
        "id": "9JaVb-CQEmTb",
        "outputId": "502955cf-7c84-4779-c67a-f4f0a6524e39"
      },
      "execution_count": 170,
      "outputs": [
        {
          "output_type": "stream",
          "name": "stdout",
          "text": [
            "7\n",
            "-1\n",
            "12\n",
            "3.0\n",
            "3\n",
            "4\n"
          ]
        }
      ]
    },
    {
      "cell_type": "markdown",
      "source": [
        "# Operaciones con Listas"
      ],
      "metadata": {
        "id": "Re1mH697MDWW"
      }
    },
    {
      "cell_type": "code",
      "source": [
        "lista_tareas = ['Lavar', 'Limpiar', 'Cocinar', 7]\n",
        "print(lista_tareas, type(lista_tareas))"
      ],
      "metadata": {
        "colab": {
          "base_uri": "https://localhost:8080/"
        },
        "id": "hNiZmHPfL8Gn",
        "outputId": "f21a3e28-e28f-420e-833a-3455915de692"
      },
      "execution_count": 171,
      "outputs": [
        {
          "output_type": "stream",
          "name": "stdout",
          "text": [
            "['Lavar', 'Limpiar', 'Cocinar', 7] <class 'list'>\n"
          ]
        }
      ]
    },
    {
      "cell_type": "code",
      "source": [
        "h = 'Lorem ipsum parten'\n",
        "i = 2,3\n",
        "print(type(i))\n",
        "len(i)"
      ],
      "metadata": {
        "colab": {
          "base_uri": "https://localhost:8080/"
        },
        "id": "DMSBoNPVOjzp",
        "outputId": "ebe34921-2b3a-4a78-c1c3-4176674a93c3"
      },
      "execution_count": 172,
      "outputs": [
        {
          "output_type": "stream",
          "name": "stdout",
          "text": [
            "<class 'tuple'>\n"
          ]
        },
        {
          "output_type": "execute_result",
          "data": {
            "text/plain": [
              "2"
            ]
          },
          "metadata": {},
          "execution_count": 172
        }
      ]
    },
    {
      "cell_type": "code",
      "source": [
        "lista = [d, g, e]\n",
        "lista"
      ],
      "metadata": {
        "colab": {
          "base_uri": "https://localhost:8080/"
        },
        "id": "TCQmSlBrSj1K",
        "outputId": "4a89f2ba-e2cf-463d-b7fa-944c5bf29fdf"
      },
      "execution_count": 173,
      "outputs": [
        {
          "output_type": "execute_result",
          "data": {
            "text/plain": [
              "[[8, 'Hola', 3.7, 'Alumno', 'Del ITM'],\n",
              " {9: True, 'clave': 'valor'},\n",
              " ['6', 4, 2.9]]"
            ]
          },
          "metadata": {},
          "execution_count": 173
        }
      ]
    },
    {
      "cell_type": "markdown",
      "source": [
        "## Indexación en listas \n",
        "El indice hace referencia a una pocisión. Es decir a una ubicación espacial dentro de la variable"
      ],
      "metadata": {
        "id": "-6WXiT2JMjAj"
      }
    },
    {
      "cell_type": "code",
      "source": [
        "lista_tareas[2]"
      ],
      "metadata": {
        "colab": {
          "base_uri": "https://localhost:8080/",
          "height": 35
        },
        "id": "o2WZ5lsJMiIG",
        "outputId": "97af6582-9677-434b-da99-583f80a09a0d"
      },
      "execution_count": 174,
      "outputs": [
        {
          "output_type": "execute_result",
          "data": {
            "text/plain": [
              "'Cocinar'"
            ],
            "application/vnd.google.colaboratory.intrinsic+json": {
              "type": "string"
            }
          },
          "metadata": {},
          "execution_count": 174
        }
      ]
    },
    {
      "cell_type": "code",
      "source": [
        "# Ver el tamaño de la lista:\n",
        "len(lista_tareas)         # len() es la función que me mide el tamaño de una variable de texto o objeto\n",
        "# Agregar elementos a la lista:\n",
        "lista_tareas.append('Barrer')\n",
        "\n",
        "print(lista_tareas,\"\\n\", len(lista_tareas))"
      ],
      "metadata": {
        "colab": {
          "base_uri": "https://localhost:8080/"
        },
        "id": "YoP39ZlJNWAu",
        "outputId": "1eb229b4-72f3-4d0c-eb7a-fc2e71c7a682"
      },
      "execution_count": 175,
      "outputs": [
        {
          "output_type": "stream",
          "name": "stdout",
          "text": [
            "['Lavar', 'Limpiar', 'Cocinar', 7, 'Barrer'] \n",
            " 5\n"
          ]
        }
      ]
    },
    {
      "cell_type": "code",
      "source": [
        "# Medir el tamaño de un elemento de la lista\n",
        "indices_lista = (len(lista_tareas) - 1) \n",
        "print('Los indices de la lista_tareas es: ',indices_lista)  "
      ],
      "metadata": {
        "colab": {
          "base_uri": "https://localhost:8080/"
        },
        "id": "Lu6fsjuBPLrN",
        "outputId": "12d36967-0bf2-4862-98d0-a7ecc0f7a0e6"
      },
      "execution_count": 176,
      "outputs": [
        {
          "output_type": "stream",
          "name": "stdout",
          "text": [
            "Los indices de la lista_tareas es:  4\n"
          ]
        }
      ]
    },
    {
      "cell_type": "code",
      "source": [
        "print(lista_tareas)\n",
        "lista_tareas.append('Sacar Basura')     # Agrego un elemento al final de la lista\n",
        "print(lista_tareas)\n",
        "# Insertando elementos a la lista:\n",
        "lista_tareas.insert(2, 'Tender la Cama')\n",
        "print(lista_tareas)"
      ],
      "metadata": {
        "colab": {
          "base_uri": "https://localhost:8080/"
        },
        "id": "BqsZpWiFP0BX",
        "outputId": "fcc4ad88-4b83-4126-e876-5c8cae7d874d"
      },
      "execution_count": 177,
      "outputs": [
        {
          "output_type": "stream",
          "name": "stdout",
          "text": [
            "['Lavar', 'Limpiar', 'Cocinar', 7, 'Barrer']\n",
            "['Lavar', 'Limpiar', 'Cocinar', 7, 'Barrer', 'Sacar Basura']\n",
            "['Lavar', 'Limpiar', 'Tender la Cama', 'Cocinar', 7, 'Barrer', 'Sacar Basura']\n"
          ]
        }
      ]
    },
    {
      "cell_type": "code",
      "source": [
        "lista_trabajos = ['Extraer Datos', 'Transformar Datos']\n",
        "print(lista_trabajos)"
      ],
      "metadata": {
        "colab": {
          "base_uri": "https://localhost:8080/"
        },
        "id": "-SG9RHNxQFrw",
        "outputId": "44831798-d1a6-4c95-aef3-ae614c2c1df6"
      },
      "execution_count": 178,
      "outputs": [
        {
          "output_type": "stream",
          "name": "stdout",
          "text": [
            "['Extraer Datos', 'Transformar Datos']\n"
          ]
        }
      ]
    },
    {
      "cell_type": "code",
      "source": [
        "# Combinar listas:\n",
        "new_lista = lista_tareas\n",
        "print(new_lista)\n",
        "new_lista.extend(lista_trabajos)\n",
        "print(new_lista)"
      ],
      "metadata": {
        "colab": {
          "base_uri": "https://localhost:8080/"
        },
        "id": "3RLrVAvRT_2Q",
        "outputId": "943a7290-b709-4479-986b-c4affa15d4c5"
      },
      "execution_count": 179,
      "outputs": [
        {
          "output_type": "stream",
          "name": "stdout",
          "text": [
            "['Lavar', 'Limpiar', 'Tender la Cama', 'Cocinar', 7, 'Barrer', 'Sacar Basura']\n",
            "['Lavar', 'Limpiar', 'Tender la Cama', 'Cocinar', 7, 'Barrer', 'Sacar Basura', 'Extraer Datos', 'Transformar Datos']\n"
          ]
        }
      ]
    },
    {
      "cell_type": "code",
      "source": [
        "# Usar append en lugar de extend:\n",
        "new_lista = lista_tareas\n",
        "print(new_lista)\n",
        "new_lista.append(lista_trabajos)\n",
        "print(new_lista)"
      ],
      "metadata": {
        "colab": {
          "base_uri": "https://localhost:8080/"
        },
        "id": "0b-BBYjIVCBn",
        "outputId": "3f433f28-8bd6-441f-fbbd-c02958dcf56f"
      },
      "execution_count": 180,
      "outputs": [
        {
          "output_type": "stream",
          "name": "stdout",
          "text": [
            "['Lavar', 'Limpiar', 'Tender la Cama', 'Cocinar', 7, 'Barrer', 'Sacar Basura', 'Extraer Datos', 'Transformar Datos']\n",
            "['Lavar', 'Limpiar', 'Tender la Cama', 'Cocinar', 7, 'Barrer', 'Sacar Basura', 'Extraer Datos', 'Transformar Datos', ['Extraer Datos', 'Transformar Datos']]\n"
          ]
        }
      ]
    },
    {
      "cell_type": "code",
      "source": [
        "# Usar append en lugar de extend:\n",
        "new_lista = lista_tareas\n",
        "print(new_lista)\n",
        "new_lista.insert(0,lista_trabajos)\n",
        "print(new_lista)"
      ],
      "metadata": {
        "colab": {
          "base_uri": "https://localhost:8080/"
        },
        "id": "gBkScpCmVXJP",
        "outputId": "203f59c3-b5c5-43ed-c218-35f4494696ee"
      },
      "execution_count": 181,
      "outputs": [
        {
          "output_type": "stream",
          "name": "stdout",
          "text": [
            "['Lavar', 'Limpiar', 'Tender la Cama', 'Cocinar', 7, 'Barrer', 'Sacar Basura', 'Extraer Datos', 'Transformar Datos', ['Extraer Datos', 'Transformar Datos']]\n",
            "[['Extraer Datos', 'Transformar Datos'], 'Lavar', 'Limpiar', 'Tender la Cama', 'Cocinar', 7, 'Barrer', 'Sacar Basura', 'Extraer Datos', 'Transformar Datos', ['Extraer Datos', 'Transformar Datos']]\n"
          ]
        }
      ]
    },
    {
      "cell_type": "code",
      "source": [
        "# Eliminar elementos de la lista:\n",
        "print(new_lista)\n",
        "new_lista.pop()        # pop elimina el elemento, pero debo indicarle el indice\n",
        "print(new_lista)"
      ],
      "metadata": {
        "colab": {
          "base_uri": "https://localhost:8080/"
        },
        "id": "KGrkenTjW_1X",
        "outputId": "78c81db8-9cbd-4ef8-939e-a8a066161aaa"
      },
      "execution_count": 182,
      "outputs": [
        {
          "output_type": "stream",
          "name": "stdout",
          "text": [
            "[['Extraer Datos', 'Transformar Datos'], 'Lavar', 'Limpiar', 'Tender la Cama', 'Cocinar', 7, 'Barrer', 'Sacar Basura', 'Extraer Datos', 'Transformar Datos', ['Extraer Datos', 'Transformar Datos']]\n",
            "[['Extraer Datos', 'Transformar Datos'], 'Lavar', 'Limpiar', 'Tender la Cama', 'Cocinar', 7, 'Barrer', 'Sacar Basura', 'Extraer Datos', 'Transformar Datos']\n"
          ]
        }
      ]
    },
    {
      "cell_type": "code",
      "source": [
        "print(new_lista)"
      ],
      "metadata": {
        "colab": {
          "base_uri": "https://localhost:8080/"
        },
        "id": "HuLeg6arZFsX",
        "outputId": "b3a61b74-da4f-48e8-c5e1-350ecdf4865d"
      },
      "execution_count": 190,
      "outputs": [
        {
          "output_type": "stream",
          "name": "stdout",
          "text": [
            "['Lavar', 'Limpiar', 'Tender la Cama', 'Cocinar', 7, 'Barrer', 'Sacar Basura', 'Extraer Datos', 'Transformar Datos']\n"
          ]
        }
      ]
    },
    {
      "cell_type": "code",
      "source": [
        "numeros = [-1,4,-2, 8, -3, 5, -4]"
      ],
      "metadata": {
        "id": "TdUa6UDoaIUx"
      },
      "execution_count": 193,
      "outputs": []
    },
    {
      "cell_type": "code",
      "source": [
        "numeros"
      ],
      "metadata": {
        "colab": {
          "base_uri": "https://localhost:8080/"
        },
        "id": "5MV7cnBFaXhv",
        "outputId": "a139b37a-f199-4938-a1b1-5b2c4fa272e1"
      },
      "execution_count": 194,
      "outputs": [
        {
          "output_type": "execute_result",
          "data": {
            "text/plain": [
              "[-1, 4, -2, 8, -3, 5, -4]"
            ]
          },
          "metadata": {},
          "execution_count": 194
        }
      ]
    },
    {
      "cell_type": "code",
      "source": [
        "# Crear lista tradicionalmente:\n",
        "numeros_positivos = []\n",
        "for x in numeros:\n",
        "  print(x)\n",
        "  if x > 0:\n",
        "    y = x\n",
        "    numeros_positivos.append(y)\n",
        "    print(y)\n",
        "print(numeros_positivos)"
      ],
      "metadata": {
        "colab": {
          "base_uri": "https://localhost:8080/"
        },
        "id": "CkqnDz83be-M",
        "outputId": "9d1dadbd-ec5d-4af4-e095-a7fbb5cb4199"
      },
      "execution_count": 198,
      "outputs": [
        {
          "output_type": "stream",
          "name": "stdout",
          "text": [
            "-1\n",
            "4\n",
            "4\n",
            "-2\n",
            "8\n",
            "8\n",
            "-3\n",
            "5\n",
            "5\n",
            "-4\n",
            "[4, 8, 5]\n"
          ]
        }
      ]
    },
    {
      "cell_type": "code",
      "source": [
        "# Podemos crear una lista a partir de una sentencia\n",
        "[x for x in numeros if x > 0]"
      ],
      "metadata": {
        "colab": {
          "base_uri": "https://localhost:8080/"
        },
        "id": "NIdf5kPRapi0",
        "outputId": "8290a517-10eb-4e09-cc57-83f1c39f52a6"
      },
      "execution_count": 195,
      "outputs": [
        {
          "output_type": "execute_result",
          "data": {
            "text/plain": [
              "[4, 8, 5]"
            ]
          },
          "metadata": {},
          "execution_count": 195
        }
      ]
    },
    {
      "cell_type": "code",
      "source": [
        "numeros"
      ],
      "metadata": {
        "colab": {
          "base_uri": "https://localhost:8080/"
        },
        "id": "tSXGPM74bjVW",
        "outputId": "1a98bf84-91de-4919-b2f6-1bace08819c7"
      },
      "execution_count": 196,
      "outputs": [
        {
          "output_type": "execute_result",
          "data": {
            "text/plain": [
              "[-1, 4, -2, 8, -3, 5, -4]"
            ]
          },
          "metadata": {},
          "execution_count": 196
        }
      ]
    },
    {
      "cell_type": "markdown",
      "source": [
        ""
      ],
      "metadata": {
        "id": "Q0scIWGmYiHN"
      }
    }
  ]
}