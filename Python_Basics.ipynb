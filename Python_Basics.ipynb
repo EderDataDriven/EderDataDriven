{
  "nbformat": 4,
  "nbformat_minor": 0,
  "metadata": {
    "colab": {
      "name": "Python Basics.ipynb",
      "provenance": [],
      "authorship_tag": "ABX9TyO2jz7mIhpEOp55chx/PHr+",
      "include_colab_link": true
    },
    "kernelspec": {
      "name": "python3",
      "display_name": "Python 3"
    },
    "language_info": {
      "name": "python"
    }
  },
  "cells": [
    {
      "cell_type": "markdown",
      "metadata": {
        "id": "view-in-github",
        "colab_type": "text"
      },
      "source": [
        "<a href=\"https://colab.research.google.com/github/EderDataDriven/EderDataDriven/blob/main/Python_Basics.ipynb\" target=\"_parent\"><img src=\"https://colab.research.google.com/assets/colab-badge.svg\" alt=\"Open In Colab\"/></a>"
      ]
    },
    {
      "cell_type": "markdown",
      "source": [
        "# Python \n",
        "Guía Rápida\n",
        "[PEP 8 ](https://ellibrodepython.com/python-pep8)"
      ],
      "metadata": {
        "id": "af-uWc-FpCHf"
      }
    },
    {
      "cell_type": "markdown",
      "source": [
        "# ¿Qué es python?\n",
        "Python es un lenguaje de programacion interpretado, multi paradigma y creado para hacer de la programación una implementación mas sencilla de sentencias."
      ],
      "metadata": {
        "id": "GNul20iqsRHb"
      }
    },
    {
      "cell_type": "code",
      "execution_count": null,
      "metadata": {
        "id": "cTjOqJRno9w7"
      },
      "outputs": [],
      "source": [
        ""
      ]
    }
  ]
}