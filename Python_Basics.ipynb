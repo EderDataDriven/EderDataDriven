{
  "nbformat": 4,
  "nbformat_minor": 0,
  "metadata": {
    "colab": {
      "name": "Python Basics.ipynb",
      "provenance": [],
      "collapsed_sections": [],
      "authorship_tag": "ABX9TyMH+dTkAYUslSLQ3y1nWtxA",
      "include_colab_link": true
    },
    "kernelspec": {
      "name": "python3",
      "display_name": "Python 3"
    },
    "language_info": {
      "name": "python"
    }
  },
  "cells": [
    {
      "cell_type": "markdown",
      "metadata": {
        "id": "view-in-github",
        "colab_type": "text"
      },
      "source": [
        "<a href=\"https://colab.research.google.com/github/EderDataDriven/EderDataDriven/blob/main/Python_Basics.ipynb\" target=\"_parent\"><img src=\"https://colab.research.google.com/assets/colab-badge.svg\" alt=\"Open In Colab\"/></a>"
      ]
    },
    {
      "cell_type": "markdown",
      "source": [
        "# Python \n",
        "Guía Rápida\n",
        "[PEP 8 ](https://ellibrodepython.com/python-pep8)\n",
        "\n",
        "[dataset](https://raw.githubusercontent.com/jsaraujo5081/CursoPythonConfenalco/data/Data_Matriculacion.csv)"
      ],
      "metadata": {
        "id": "af-uWc-FpCHf"
      }
    },
    {
      "cell_type": "markdown",
      "source": [
        "# ¿Qué es python?\n",
        "Python es un lenguaje de programacion interpretado, multi paradigma y creado para hacer de la programación una implementación mas sencilla de sentencias."
      ],
      "metadata": {
        "id": "GNul20iqsRHb"
      }
    },
    {
      "cell_type": "markdown",
      "source": [
        "# Variables"
      ],
      "metadata": {
        "id": "zBzhLiW_538T"
      }
    },
    {
      "cell_type": "code",
      "execution_count": 159,
      "metadata": {
        "id": "cTjOqJRno9w7",
        "colab": {
          "base_uri": "https://localhost:8080/",
          "height": 35
        },
        "outputId": "876ea341-9480-4c2d-c9ef-71cad492f317"
      },
      "outputs": [
        {
          "output_type": "execute_result",
          "data": {
            "text/plain": [
              "'este es un Mensaje'"
            ],
            "application/vnd.google.colaboratory.intrinsic+json": {
              "type": "string"
            }
          },
          "metadata": {},
          "execution_count": 159
        }
      ],
      "source": [
        "x = 2.4\n",
        "y = \"este es un Mensaje\"\n",
        "y"
      ]
    },
    {
      "cell_type": "code",
      "source": [
        "x"
      ],
      "metadata": {
        "colab": {
          "base_uri": "https://localhost:8080/"
        },
        "id": "FRViCBck6mUS",
        "outputId": "7f481573-4e59-4d3c-b1ce-c0837d51b093"
      },
      "execution_count": 160,
      "outputs": [
        {
          "output_type": "execute_result",
          "data": {
            "text/plain": [
              "2.4"
            ]
          },
          "metadata": {},
          "execution_count": 160
        }
      ]
    },
    {
      "cell_type": "code",
      "source": [
        "print(x)\n",
        "print(y)"
      ],
      "metadata": {
        "colab": {
          "base_uri": "https://localhost:8080/"
        },
        "id": "s08q22Tn6qkB",
        "outputId": "7b3dd507-dd72-42d7-c8ee-0ccbb8d66a57"
      },
      "execution_count": 161,
      "outputs": [
        {
          "output_type": "stream",
          "name": "stdout",
          "text": [
            "2.4\n",
            "este es un Mensaje\n"
          ]
        }
      ]
    },
    {
      "cell_type": "code",
      "source": [
        "print(x, y)"
      ],
      "metadata": {
        "colab": {
          "base_uri": "https://localhost:8080/"
        },
        "id": "6ncqBlJu6x-W",
        "outputId": "1dc9edb6-4be1-4f9e-b8c9-2a35b75d87bd"
      },
      "execution_count": 162,
      "outputs": [
        {
          "output_type": "stream",
          "name": "stdout",
          "text": [
            "2.4 este es un Mensaje\n"
          ]
        }
      ]
    },
    {
      "cell_type": "code",
      "source": [
        "print(type(x))\n",
        "z = 2,2\n",
        "m = 2\n",
        "print(type(z))\n",
        "print(z)"
      ],
      "metadata": {
        "colab": {
          "base_uri": "https://localhost:8080/"
        },
        "id": "w5SK2Wg068Qf",
        "outputId": "b7237f7d-2ac4-4419-8184-8c52d223a7ac"
      },
      "execution_count": 163,
      "outputs": [
        {
          "output_type": "stream",
          "name": "stdout",
          "text": [
            "<class 'float'>\n",
            "<class 'tuple'>\n",
            "(2, 2)\n"
          ]
        }
      ]
    },
    {
      "cell_type": "code",
      "source": [
        "z = 3\n",
        "z"
      ],
      "metadata": {
        "colab": {
          "base_uri": "https://localhost:8080/"
        },
        "id": "m-hcLI8-8qgx",
        "outputId": "2b081a12-0152-43a9-e958-03fc2a39a454"
      },
      "execution_count": 164,
      "outputs": [
        {
          "output_type": "execute_result",
          "data": {
            "text/plain": [
              "3"
            ]
          },
          "metadata": {},
          "execution_count": 164
        }
      ]
    },
    {
      "cell_type": "code",
      "source": [
        "print(z)"
      ],
      "metadata": {
        "colab": {
          "base_uri": "https://localhost:8080/"
        },
        "id": "rVuNrK9884Zl",
        "outputId": "b1a9df34-2636-409b-a872-ce1aaeebf299"
      },
      "execution_count": 165,
      "outputs": [
        {
          "output_type": "stream",
          "name": "stdout",
          "text": [
            "3\n"
          ]
        }
      ]
    },
    {
      "cell_type": "markdown",
      "source": [
        "# Variables lógicas"
      ],
      "metadata": {
        "id": "7dwFZ6ow9YhL"
      }
    },
    {
      "cell_type": "code",
      "source": [
        "\"\"\"\n",
        "Comentario tipo Parrafo\n",
        "Las variables lógicas hacen parte de la clase booleanas, es decir me retornan \n",
        "verdadero o falso\n",
        "\"\"\"\n",
        "\n",
        "a = 2\n",
        "b = 2\n",
        "print(a == 2 and b == 2)   # a \"y\" b son iguales a 2\n",
        "print(a != 3 or b != 3)    # a \"o\" b son son diferentes a 3\n",
        "\n",
        "\n",
        "\"\"\"\n",
        "los dos signos == hacen referencia a una comparación, \n",
        "mientras que uno solo = indica que es una asignación.\n",
        "el signo != significa diferente.\n",
        "\"\"\" "
      ],
      "metadata": {
        "colab": {
          "base_uri": "https://localhost:8080/",
          "height": 87
        },
        "id": "EkbLsF-a9Fvz",
        "outputId": "e252850b-b18a-4069-94ae-ed89e4c6426a"
      },
      "execution_count": 166,
      "outputs": [
        {
          "output_type": "stream",
          "name": "stdout",
          "text": [
            "True\n",
            "True\n"
          ]
        },
        {
          "output_type": "execute_result",
          "data": {
            "text/plain": [
              "'\\nlos dos signos == hacen referencia a una comparación, \\nmientras que uno solo = indica que es una asignación.\\nel signo != significa diferente.\\n'"
            ],
            "application/vnd.google.colaboratory.intrinsic+json": {
              "type": "string"
            }
          },
          "metadata": {},
          "execution_count": 166
        }
      ]
    },
    {
      "cell_type": "markdown",
      "source": [
        "# Colecciones en Python (Objetos)\n",
        "Una colección es una forma de organizar multiples valores en un variables, tuplas, listas, diccionarios, conjuntos, etc"
      ],
      "metadata": {
        "id": "B2E_bXADBvqT"
      }
    },
    {
      "cell_type": "code",
      "source": [
        "# Tuplas:\n",
        "c = 2,4, 2.5, 4, 1 , 6 , 3 , 0, 'Hola'\n",
        "print(c, type(c))"
      ],
      "metadata": {
        "colab": {
          "base_uri": "https://localhost:8080/"
        },
        "id": "MUNcFkDFBsW5",
        "outputId": "a6e988ed-3f17-49d7-bc21-ec83c90005c0"
      },
      "execution_count": 167,
      "outputs": [
        {
          "output_type": "stream",
          "name": "stdout",
          "text": [
            "(2, 4, 2.5, 4, 1, 6, 3, 0, 'Hola') <class 'tuple'>\n"
          ]
        }
      ]
    },
    {
      "cell_type": "code",
      "source": [
        "# Listas:\n",
        "d = [8,'Hola', 3.7, 'Alumno']\n",
        "print(d, type(d))\n",
        "# Agregando elementos a la lista:\n",
        "d.append('Del ITM')\n",
        "print(d)\n",
        "e = ['6', 4, 2.9]\n",
        "print(e)\n",
        "f = d + e\n",
        "print(f)"
      ],
      "metadata": {
        "colab": {
          "base_uri": "https://localhost:8080/"
        },
        "id": "cRHTTdyZ-cDh",
        "outputId": "1b1e10f7-540f-4dce-97f7-c824eaba50aa"
      },
      "execution_count": 168,
      "outputs": [
        {
          "output_type": "stream",
          "name": "stdout",
          "text": [
            "[8, 'Hola', 3.7, 'Alumno'] <class 'list'>\n",
            "[8, 'Hola', 3.7, 'Alumno', 'Del ITM']\n",
            "['6', 4, 2.9]\n",
            "[8, 'Hola', 3.7, 'Alumno', 'Del ITM', '6', 4, 2.9]\n"
          ]
        }
      ]
    },
    {
      "cell_type": "code",
      "source": [
        "# Diccionarios\n",
        "g = {'clave': 'valor', 9: True}\n",
        "print(g, type(g))"
      ],
      "metadata": {
        "colab": {
          "base_uri": "https://localhost:8080/"
        },
        "id": "Qjrt0Q7NDsXP",
        "outputId": "e78cbad6-12d3-4237-e57d-69bb14d9c9ab"
      },
      "execution_count": 169,
      "outputs": [
        {
          "output_type": "stream",
          "name": "stdout",
          "text": [
            "{'clave': 'valor', 9: True} <class 'dict'>\n"
          ]
        }
      ]
    },
    {
      "cell_type": "markdown",
      "source": [
        "# Operadores en python"
      ],
      "metadata": {
        "id": "SNRGSe1SEmtj"
      }
    },
    {
      "cell_type": "code",
      "source": [
        "# Sumar= +\n",
        "print(3 + 4)\n",
        "\n",
        "# Restar= -\n",
        "print(3 - 4)\n",
        "\n",
        "# Multiplicar= *\n",
        "print(3 * 4)\n",
        "\n",
        "# Dividir= /\n",
        "print(12 / 4)\n",
        "\n",
        "# DividirAbsoluto= //\n",
        "print(10 // 3)\n",
        "\n",
        "# Residuos(Mod)= %\n",
        "print(10 % 6)\n",
        "\n",
        "# Elevar al numero (potenciación)= **\n",
        "print(3**3)"
      ],
      "metadata": {
        "colab": {
          "base_uri": "https://localhost:8080/"
        },
        "id": "9JaVb-CQEmTb",
        "outputId": "415b3f39-7a9b-405d-bcea-02a1b02d6afe"
      },
      "execution_count": 16,
      "outputs": [
        {
          "output_type": "stream",
          "name": "stdout",
          "text": [
            "7\n",
            "-1\n",
            "12\n",
            "3.0\n",
            "3\n",
            "4\n",
            "27\n"
          ]
        }
      ]
    },
    {
      "cell_type": "markdown",
      "source": [
        "# Operaciones con Listas"
      ],
      "metadata": {
        "id": "Re1mH697MDWW"
      }
    },
    {
      "cell_type": "code",
      "source": [
        "lista_tareas = ['Lavar', 'Limpiar', 'Cocinar', 7]\n",
        "print(lista_tareas, type(lista_tareas))"
      ],
      "metadata": {
        "colab": {
          "base_uri": "https://localhost:8080/"
        },
        "id": "hNiZmHPfL8Gn",
        "outputId": "f21a3e28-e28f-420e-833a-3455915de692"
      },
      "execution_count": 171,
      "outputs": [
        {
          "output_type": "stream",
          "name": "stdout",
          "text": [
            "['Lavar', 'Limpiar', 'Cocinar', 7] <class 'list'>\n"
          ]
        }
      ]
    },
    {
      "cell_type": "code",
      "source": [
        "h = 'Lorem ipsum parten'\n",
        "i = 2,3\n",
        "print(type(i))\n",
        "len(i)"
      ],
      "metadata": {
        "colab": {
          "base_uri": "https://localhost:8080/"
        },
        "id": "DMSBoNPVOjzp",
        "outputId": "ebe34921-2b3a-4a78-c1c3-4176674a93c3"
      },
      "execution_count": 172,
      "outputs": [
        {
          "output_type": "stream",
          "name": "stdout",
          "text": [
            "<class 'tuple'>\n"
          ]
        },
        {
          "output_type": "execute_result",
          "data": {
            "text/plain": [
              "2"
            ]
          },
          "metadata": {},
          "execution_count": 172
        }
      ]
    },
    {
      "cell_type": "code",
      "source": [
        "lista = [d, g, e]\n",
        "lista"
      ],
      "metadata": {
        "colab": {
          "base_uri": "https://localhost:8080/"
        },
        "id": "TCQmSlBrSj1K",
        "outputId": "4a89f2ba-e2cf-463d-b7fa-944c5bf29fdf"
      },
      "execution_count": 173,
      "outputs": [
        {
          "output_type": "execute_result",
          "data": {
            "text/plain": [
              "[[8, 'Hola', 3.7, 'Alumno', 'Del ITM'],\n",
              " {9: True, 'clave': 'valor'},\n",
              " ['6', 4, 2.9]]"
            ]
          },
          "metadata": {},
          "execution_count": 173
        }
      ]
    },
    {
      "cell_type": "markdown",
      "source": [
        "## Indexación en listas \n",
        "El indice hace referencia a una pocisión. Es decir a una ubicación espacial dentro de la variable"
      ],
      "metadata": {
        "id": "-6WXiT2JMjAj"
      }
    },
    {
      "cell_type": "code",
      "source": [
        "lista_tareas[2]"
      ],
      "metadata": {
        "colab": {
          "base_uri": "https://localhost:8080/",
          "height": 35
        },
        "id": "o2WZ5lsJMiIG",
        "outputId": "97af6582-9677-434b-da99-583f80a09a0d"
      },
      "execution_count": 174,
      "outputs": [
        {
          "output_type": "execute_result",
          "data": {
            "text/plain": [
              "'Cocinar'"
            ],
            "application/vnd.google.colaboratory.intrinsic+json": {
              "type": "string"
            }
          },
          "metadata": {},
          "execution_count": 174
        }
      ]
    },
    {
      "cell_type": "code",
      "source": [
        "# Ver el tamaño de la lista:\n",
        "len(lista_tareas)         # len() es la función que me mide el tamaño de una variable de texto o objeto\n",
        "# Agregar elementos a la lista:\n",
        "lista_tareas.append('Barrer')\n",
        "\n",
        "print(lista_tareas,\"\\n\", len(lista_tareas))"
      ],
      "metadata": {
        "colab": {
          "base_uri": "https://localhost:8080/"
        },
        "id": "YoP39ZlJNWAu",
        "outputId": "1eb229b4-72f3-4d0c-eb7a-fc2e71c7a682"
      },
      "execution_count": 175,
      "outputs": [
        {
          "output_type": "stream",
          "name": "stdout",
          "text": [
            "['Lavar', 'Limpiar', 'Cocinar', 7, 'Barrer'] \n",
            " 5\n"
          ]
        }
      ]
    },
    {
      "cell_type": "code",
      "source": [
        "# Medir el tamaño de un elemento de la lista\n",
        "indices_lista = (len(lista_tareas) - 1) \n",
        "print('Los indices de la lista_tareas es: ',indices_lista)  "
      ],
      "metadata": {
        "colab": {
          "base_uri": "https://localhost:8080/"
        },
        "id": "Lu6fsjuBPLrN",
        "outputId": "12d36967-0bf2-4862-98d0-a7ecc0f7a0e6"
      },
      "execution_count": 176,
      "outputs": [
        {
          "output_type": "stream",
          "name": "stdout",
          "text": [
            "Los indices de la lista_tareas es:  4\n"
          ]
        }
      ]
    },
    {
      "cell_type": "code",
      "source": [
        "print(lista_tareas)\n",
        "lista_tareas.append('Sacar Basura')     # Agrego un elemento al final de la lista\n",
        "print(lista_tareas)\n",
        "# Insertando elementos a la lista:\n",
        "lista_tareas.insert(2, 'Tender la Cama')\n",
        "print(lista_tareas)"
      ],
      "metadata": {
        "colab": {
          "base_uri": "https://localhost:8080/"
        },
        "id": "BqsZpWiFP0BX",
        "outputId": "fcc4ad88-4b83-4126-e876-5c8cae7d874d"
      },
      "execution_count": 177,
      "outputs": [
        {
          "output_type": "stream",
          "name": "stdout",
          "text": [
            "['Lavar', 'Limpiar', 'Cocinar', 7, 'Barrer']\n",
            "['Lavar', 'Limpiar', 'Cocinar', 7, 'Barrer', 'Sacar Basura']\n",
            "['Lavar', 'Limpiar', 'Tender la Cama', 'Cocinar', 7, 'Barrer', 'Sacar Basura']\n"
          ]
        }
      ]
    },
    {
      "cell_type": "code",
      "source": [
        "lista_trabajos = ['Extraer Datos', 'Transformar Datos']\n",
        "print(lista_trabajos)"
      ],
      "metadata": {
        "colab": {
          "base_uri": "https://localhost:8080/"
        },
        "id": "-SG9RHNxQFrw",
        "outputId": "44831798-d1a6-4c95-aef3-ae614c2c1df6"
      },
      "execution_count": 178,
      "outputs": [
        {
          "output_type": "stream",
          "name": "stdout",
          "text": [
            "['Extraer Datos', 'Transformar Datos']\n"
          ]
        }
      ]
    },
    {
      "cell_type": "code",
      "source": [
        "# Combinar listas:\n",
        "new_lista = lista_tareas\n",
        "print(new_lista)\n",
        "new_lista.extend(lista_trabajos)\n",
        "print(new_lista)"
      ],
      "metadata": {
        "colab": {
          "base_uri": "https://localhost:8080/"
        },
        "id": "3RLrVAvRT_2Q",
        "outputId": "943a7290-b709-4479-986b-c4affa15d4c5"
      },
      "execution_count": 179,
      "outputs": [
        {
          "output_type": "stream",
          "name": "stdout",
          "text": [
            "['Lavar', 'Limpiar', 'Tender la Cama', 'Cocinar', 7, 'Barrer', 'Sacar Basura']\n",
            "['Lavar', 'Limpiar', 'Tender la Cama', 'Cocinar', 7, 'Barrer', 'Sacar Basura', 'Extraer Datos', 'Transformar Datos']\n"
          ]
        }
      ]
    },
    {
      "cell_type": "code",
      "source": [
        "# Usar append en lugar de extend:\n",
        "new_lista = lista_tareas\n",
        "print(new_lista)\n",
        "new_lista.append(lista_trabajos)\n",
        "print(new_lista)"
      ],
      "metadata": {
        "colab": {
          "base_uri": "https://localhost:8080/"
        },
        "id": "0b-BBYjIVCBn",
        "outputId": "3f433f28-8bd6-441f-fbbd-c02958dcf56f"
      },
      "execution_count": 180,
      "outputs": [
        {
          "output_type": "stream",
          "name": "stdout",
          "text": [
            "['Lavar', 'Limpiar', 'Tender la Cama', 'Cocinar', 7, 'Barrer', 'Sacar Basura', 'Extraer Datos', 'Transformar Datos']\n",
            "['Lavar', 'Limpiar', 'Tender la Cama', 'Cocinar', 7, 'Barrer', 'Sacar Basura', 'Extraer Datos', 'Transformar Datos', ['Extraer Datos', 'Transformar Datos']]\n"
          ]
        }
      ]
    },
    {
      "cell_type": "code",
      "source": [
        "# Usar append en lugar de extend:\n",
        "new_lista = lista_tareas\n",
        "print(new_lista)\n",
        "new_lista.insert(0,lista_trabajos)\n",
        "print(new_lista)"
      ],
      "metadata": {
        "colab": {
          "base_uri": "https://localhost:8080/"
        },
        "id": "gBkScpCmVXJP",
        "outputId": "203f59c3-b5c5-43ed-c218-35f4494696ee"
      },
      "execution_count": 181,
      "outputs": [
        {
          "output_type": "stream",
          "name": "stdout",
          "text": [
            "['Lavar', 'Limpiar', 'Tender la Cama', 'Cocinar', 7, 'Barrer', 'Sacar Basura', 'Extraer Datos', 'Transformar Datos', ['Extraer Datos', 'Transformar Datos']]\n",
            "[['Extraer Datos', 'Transformar Datos'], 'Lavar', 'Limpiar', 'Tender la Cama', 'Cocinar', 7, 'Barrer', 'Sacar Basura', 'Extraer Datos', 'Transformar Datos', ['Extraer Datos', 'Transformar Datos']]\n"
          ]
        }
      ]
    },
    {
      "cell_type": "code",
      "source": [
        "# Eliminar elementos de la lista:\n",
        "print(new_lista)\n",
        "new_lista.pop()        # pop elimina el elemento, pero debo indicarle el indice\n",
        "print(new_lista)"
      ],
      "metadata": {
        "colab": {
          "base_uri": "https://localhost:8080/"
        },
        "id": "KGrkenTjW_1X",
        "outputId": "78c81db8-9cbd-4ef8-939e-a8a066161aaa"
      },
      "execution_count": 182,
      "outputs": [
        {
          "output_type": "stream",
          "name": "stdout",
          "text": [
            "[['Extraer Datos', 'Transformar Datos'], 'Lavar', 'Limpiar', 'Tender la Cama', 'Cocinar', 7, 'Barrer', 'Sacar Basura', 'Extraer Datos', 'Transformar Datos', ['Extraer Datos', 'Transformar Datos']]\n",
            "[['Extraer Datos', 'Transformar Datos'], 'Lavar', 'Limpiar', 'Tender la Cama', 'Cocinar', 7, 'Barrer', 'Sacar Basura', 'Extraer Datos', 'Transformar Datos']\n"
          ]
        }
      ]
    },
    {
      "cell_type": "code",
      "source": [
        "print(new_lista)"
      ],
      "metadata": {
        "colab": {
          "base_uri": "https://localhost:8080/"
        },
        "id": "HuLeg6arZFsX",
        "outputId": "b3a61b74-da4f-48e8-c5e1-350ecdf4865d"
      },
      "execution_count": 190,
      "outputs": [
        {
          "output_type": "stream",
          "name": "stdout",
          "text": [
            "['Lavar', 'Limpiar', 'Tender la Cama', 'Cocinar', 7, 'Barrer', 'Sacar Basura', 'Extraer Datos', 'Transformar Datos']\n"
          ]
        }
      ]
    },
    {
      "cell_type": "code",
      "source": [
        "numeros = [-1,4,-2, 8, -3, 5, -4]"
      ],
      "metadata": {
        "id": "TdUa6UDoaIUx"
      },
      "execution_count": 193,
      "outputs": []
    },
    {
      "cell_type": "code",
      "source": [
        "numeros"
      ],
      "metadata": {
        "colab": {
          "base_uri": "https://localhost:8080/"
        },
        "id": "5MV7cnBFaXhv",
        "outputId": "a139b37a-f199-4938-a1b1-5b2c4fa272e1"
      },
      "execution_count": 194,
      "outputs": [
        {
          "output_type": "execute_result",
          "data": {
            "text/plain": [
              "[-1, 4, -2, 8, -3, 5, -4]"
            ]
          },
          "metadata": {},
          "execution_count": 194
        }
      ]
    },
    {
      "cell_type": "code",
      "source": [
        "# Crear lista tradicionalmente:\n",
        "numeros_positivos = []\n",
        "for x in numeros:\n",
        "  print(x)\n",
        "  if x > 0:\n",
        "    numeros_positivos.append(x)\n",
        "    print(x)\n",
        "print(numeros_positivos)"
      ],
      "metadata": {
        "colab": {
          "base_uri": "https://localhost:8080/"
        },
        "id": "CkqnDz83be-M",
        "outputId": "53af97df-c329-478e-b44a-129d8e4c6dcc"
      },
      "execution_count": 208,
      "outputs": [
        {
          "output_type": "stream",
          "name": "stdout",
          "text": [
            "-1\n",
            "4\n",
            "4\n",
            "-2\n",
            "8\n",
            "8\n",
            "-3\n",
            "5\n",
            "5\n",
            "-4\n",
            "[4, 8, 5]\n"
          ]
        }
      ]
    },
    {
      "cell_type": "code",
      "source": [
        "# Podemos crear una lista a partir de una sentencia\n",
        "num_pos = [x for x in numeros if x > 0]\n",
        "print(num_pos)"
      ],
      "metadata": {
        "colab": {
          "base_uri": "https://localhost:8080/"
        },
        "id": "NIdf5kPRapi0",
        "outputId": "f683ce96-f81a-455f-f0e2-eb887670bb7f"
      },
      "execution_count": 211,
      "outputs": [
        {
          "output_type": "stream",
          "name": "stdout",
          "text": [
            "[4, 8, 5]\n"
          ]
        }
      ]
    },
    {
      "cell_type": "code",
      "source": [
        "numeros_negativos = [x for x in numeros if x < 0]\n",
        "numeros_negativos\n"
      ],
      "metadata": {
        "colab": {
          "base_uri": "https://localhost:8080/"
        },
        "id": "5pbk24nVfspJ",
        "outputId": "01c90fff-1762-4603-ff5f-c4fa5de4dc6a"
      },
      "execution_count": 213,
      "outputs": [
        {
          "output_type": "execute_result",
          "data": {
            "text/plain": [
              "[-1, -2, -3, -4]"
            ]
          },
          "metadata": {},
          "execution_count": 213
        }
      ]
    },
    {
      "cell_type": "code",
      "source": [
        "numeros"
      ],
      "metadata": {
        "colab": {
          "base_uri": "https://localhost:8080/"
        },
        "id": "tSXGPM74bjVW",
        "outputId": "8cae3a4e-272f-48d4-f575-770d05b23099"
      },
      "execution_count": 212,
      "outputs": [
        {
          "output_type": "execute_result",
          "data": {
            "text/plain": [
              "[-1, 4, -2, 8, -3, 5, -4]"
            ]
          },
          "metadata": {},
          "execution_count": 212
        }
      ]
    },
    {
      "cell_type": "markdown",
      "source": [
        "### Secuencias\n",
        "\n",
        "secuencia = range(Valorinicial, Valorfinal, paso)"
      ],
      "metadata": {
        "id": "-JDVqeAjg6Ux"
      }
    },
    {
      "cell_type": "code",
      "source": [
        "# lista materializable\n",
        "numeros"
      ],
      "metadata": {
        "colab": {
          "base_uri": "https://localhost:8080/"
        },
        "id": "bYPB6WMvgwZI",
        "outputId": "7652cb20-42ce-412b-b0f5-6eb09ea4864d"
      },
      "execution_count": 214,
      "outputs": [
        {
          "output_type": "execute_result",
          "data": {
            "text/plain": [
              "[-1, 4, -2, 8, -3, 5, -4]"
            ]
          },
          "metadata": {},
          "execution_count": 214
        }
      ]
    },
    {
      "cell_type": "code",
      "source": [
        "# Definir una secuencia de valores:\n",
        "secuencia = range(0,20,2)           # 2,4,6,8,6,..20\n",
        "secuencia\n",
        "len(secuencia)\n",
        "\n",
        "# una secuencia la puedo convertir en una lista:\n",
        "list(secuencia)"
      ],
      "metadata": {
        "colab": {
          "base_uri": "https://localhost:8080/"
        },
        "id": "ZdCBTw1jhXL2",
        "outputId": "6d7b167d-e608-4de1-f378-7bbac5ae6278"
      },
      "execution_count": 219,
      "outputs": [
        {
          "output_type": "execute_result",
          "data": {
            "text/plain": [
              "[0, 2, 4, 6, 8, 10, 12, 14, 16, 18]"
            ]
          },
          "metadata": {},
          "execution_count": 219
        }
      ]
    },
    {
      "cell_type": "code",
      "source": [
        "sec_10 = range(1, 11)\n",
        "diez = list(sec_10)\n",
        "diez"
      ],
      "metadata": {
        "colab": {
          "base_uri": "https://localhost:8080/"
        },
        "id": "4g1-jBb6jPJD",
        "outputId": "6ef06705-3e4e-41d5-9fb3-1f64b8ff4308"
      },
      "execution_count": 224,
      "outputs": [
        {
          "output_type": "execute_result",
          "data": {
            "text/plain": [
              "[1, 2, 3, 4, 5, 6, 7, 8, 9, 10]"
            ]
          },
          "metadata": {},
          "execution_count": 224
        }
      ]
    },
    {
      "cell_type": "code",
      "source": [
        "# Compresión de listas\n",
        "nombres = ['Eder Lara', 'Helen Lara', 'Tania Rodriguez', 'Juan Porras']\n",
        "edades = [39, 11, 40, 79]\n",
        "# [('Eder Lara', 39), ('Helen Lara, 11)]\n",
        "familia = zip(edades, nombres)\n",
        "print(list(familia))"
      ],
      "metadata": {
        "colab": {
          "base_uri": "https://localhost:8080/"
        },
        "id": "1g0Zvp64j5fE",
        "outputId": "1fdc1484-92a9-4e02-9489-c3f0c8d44c21"
      },
      "execution_count": 31,
      "outputs": [
        {
          "output_type": "stream",
          "name": "stdout",
          "text": [
            "[(39, 'Eder Lara'), (11, 'Helen Lara'), (40, 'Tania Rodriguez'), (79, 'Juan Porras')]\n"
          ]
        }
      ]
    },
    {
      "cell_type": "code",
      "source": [
        "[x for x in range(20)]"
      ],
      "metadata": {
        "colab": {
          "base_uri": "https://localhost:8080/"
        },
        "id": "vXCTx_23ijTi",
        "outputId": "088a4a90-82c7-4cfb-f184-4a268ba0fdc1"
      },
      "execution_count": 220,
      "outputs": [
        {
          "output_type": "execute_result",
          "data": {
            "text/plain": [
              "[0, 1, 2, 3, 4, 5, 6, 7, 8, 9, 10, 11, 12, 13, 14, 15, 16, 17, 18, 19]"
            ]
          },
          "metadata": {},
          "execution_count": 220
        }
      ]
    },
    {
      "cell_type": "code",
      "source": [
        "# Podemos cambiar el tipo de dato usando la función del tipo de dato que queremos usar:\n",
        "numero = 3\n",
        "print(type(numero))\n",
        "numero = str(numero)\n",
        "print(type(numero))"
      ],
      "metadata": {
        "colab": {
          "base_uri": "https://localhost:8080/"
        },
        "id": "1KiwV6NF0LkO",
        "outputId": "959782a2-e434-47b4-d98a-1c007ed43dfd"
      },
      "execution_count": 7,
      "outputs": [
        {
          "output_type": "stream",
          "name": "stdout",
          "text": [
            "<class 'int'>\n",
            "<class 'str'>\n"
          ]
        }
      ]
    },
    {
      "cell_type": "markdown",
      "source": [
        "## Declaraciones y Funciones\n",
        "\n",
        "\n",
        "*   Lazos - Bucles o ciclos\n",
        "*   Condicionales\n",
        "*   Funciones\n",
        "*   Librerias (numpy, pandas)\n",
        "*   Ejercicios\n",
        "\n"
      ],
      "metadata": {
        "id": "kuvUJfiy1MNO"
      }
    },
    {
      "cell_type": "markdown",
      "source": [
        "Bucle o Lazo = Es una declaración que permite la repetición (o iteración), de fragmentos de código"
      ],
      "metadata": {
        "id": "67rDL85C1rpG"
      }
    },
    {
      "cell_type": "code",
      "source": [
        "for x in range(5):              # Parar cierto evento\n",
        "  print(x)                      # Ejecute\n",
        "  # Repite hasta que se cumpla el evento"
      ],
      "metadata": {
        "colab": {
          "base_uri": "https://localhost:8080/"
        },
        "id": "OLIfe-dL1Izj",
        "outputId": "50a8263d-6a97-48c5-cf7c-5cf0d84a50a5"
      },
      "execution_count": 9,
      "outputs": [
        {
          "output_type": "stream",
          "name": "stdout",
          "text": [
            "0\n",
            "1\n",
            "2\n",
            "3\n",
            "4\n"
          ]
        }
      ]
    },
    {
      "cell_type": "code",
      "source": [
        "#Lista con las 9 películas principales de la saga de Star Wars\n",
        "star_wars = [\"Una Nueva Esperanza\",\"El Imperio Contraataca\",\"El Retorno del Jedi\",\"La Amenaza Fantasma\",\"La Guerra de los Clones\",\"La Venganza de los Sith\",\n",
        "             \"El Despertar de la Fuerza\",\"Los Ultimos Jedis\",\"El Ascenso de Skywalker\"]\n",
        "# Supongamos que queremos imprimir cada elemento de la lista:\n",
        "print(star_wars[0])\n",
        "print(star_wars[1])\n",
        "print(star_wars[2])\n",
        "print(star_wars[3])\n",
        "print(star_wars[4])\n",
        "print(star_wars[5])\n",
        "print(star_wars[6])\n",
        "print(star_wars[7])\n",
        "print(star_wars[8])\n"
      ],
      "metadata": {
        "colab": {
          "base_uri": "https://localhost:8080/"
        },
        "id": "PFsYrMu92_Bs",
        "outputId": "6b8639de-884c-4c5b-ebf8-2cddb27fba4d"
      },
      "execution_count": 14,
      "outputs": [
        {
          "output_type": "stream",
          "name": "stdout",
          "text": [
            "Una Nueva Esperanza\n",
            "El Imperio Contraataca\n",
            "El Retorno del Jedi\n",
            "La Amenaza Fantasma\n",
            "La Guerra de los Clones\n",
            "La Venganza de los Sith\n",
            "El Despertar de la Fuerza\n",
            "Los Ultimos Jedis\n",
            "El Ascenso de Skywalker\n"
          ]
        }
      ]
    },
    {
      "cell_type": "code",
      "source": [
        "# Hacerlo eficiente:\n",
        "for pelicula in star_wars:\n",
        "  print(pelicula)"
      ],
      "metadata": {
        "colab": {
          "base_uri": "https://localhost:8080/"
        },
        "id": "r4Ew3JEZ4Nli",
        "outputId": "685a0eb4-a678-4bc5-e6a5-5122335e61eb"
      },
      "execution_count": 12,
      "outputs": [
        {
          "output_type": "stream",
          "name": "stdout",
          "text": [
            "Una Nueva Esperanza\n",
            "El Imperio Contraataca\n",
            "El Retorno del Jedi\n",
            "La Amenaza Fantasma\n",
            "La Guerra de los Clones\n",
            "La Venganza de los Sith\n",
            "El Despertar de la Fuerza\n",
            "Los Ultimos Jedis\n",
            "El Ascenso de Skywalker\n"
          ]
        }
      ]
    },
    {
      "cell_type": "code",
      "source": [
        "print(pelicula)"
      ],
      "metadata": {
        "colab": {
          "base_uri": "https://localhost:8080/"
        },
        "id": "E-__e6oa4qJK",
        "outputId": "492ca3e9-1017-49cd-c0c0-7a34386335fe"
      },
      "execution_count": 13,
      "outputs": [
        {
          "output_type": "stream",
          "name": "stdout",
          "text": [
            "El Ascenso de Skywalker\n"
          ]
        }
      ]
    },
    {
      "cell_type": "code",
      "source": [
        "# Crear una lista con los primeros 100 numeros enteros al 2 usando for:\n",
        "\n",
        "# 1. Crear una lista vacia:\n",
        "num_cuadrados = []\n",
        "for i in range(1, 101):\n",
        "  num_cuadrados.append(i**2)\n",
        "print(num_cuadrados)"
      ],
      "metadata": {
        "colab": {
          "base_uri": "https://localhost:8080/"
        },
        "id": "o7BOaNWP5BMF",
        "outputId": "4a009847-9cda-4036-9bf8-cbba11475d14"
      },
      "execution_count": 24,
      "outputs": [
        {
          "output_type": "stream",
          "name": "stdout",
          "text": [
            "[1, 4, 9, 16, 25, 36, 49, 64, 81, 100, 121, 144, 169, 196, 225, 256, 289, 324, 361, 400, 441, 484, 529, 576, 625, 676, 729, 784, 841, 900, 961, 1024, 1089, 1156, 1225, 1296, 1369, 1444, 1521, 1600, 1681, 1764, 1849, 1936, 2025, 2116, 2209, 2304, 2401, 2500, 2601, 2704, 2809, 2916, 3025, 3136, 3249, 3364, 3481, 3600, 3721, 3844, 3969, 4096, 4225, 4356, 4489, 4624, 4761, 4900, 5041, 5184, 5329, 5476, 5625, 5776, 5929, 6084, 6241, 6400, 6561, 6724, 6889, 7056, 7225, 7396, 7569, 7744, 7921, 8100, 8281, 8464, 8649, 8836, 9025, 9216, 9409, 9604, 9801, 10000]\n"
          ]
        }
      ]
    },
    {
      "cell_type": "code",
      "source": [
        "# Manipulando zip con for:\n",
        "# Compresión de listas\n",
        "personas = ['Eder Lara', 'Helen Lara', 'Tania Rodriguez', 'Juan Porras']\n",
        "anios = [39, 11, 40, 79]\n",
        "# [('Eder Lara', 39), ('Helen Lara, 11)]\n",
        "gente = zip(personas, anios)              # ('Eder Lara', 39), ('Helen Lara, 11)\n",
        "# print(list(gente))\n",
        "\n",
        "# Jugamos con los indices en el for:\n",
        "for p,a in gente:\n",
        "  print(\"Nombre: \", p, \"\\t Edad: \", a)"
      ],
      "metadata": {
        "colab": {
          "base_uri": "https://localhost:8080/"
        },
        "id": "5K9GhTPZ6_XW",
        "outputId": "c57b75a5-639d-4b2d-ca33-2d9011d833cf"
      },
      "execution_count": 41,
      "outputs": [
        {
          "output_type": "stream",
          "name": "stdout",
          "text": [
            "Nombre:  Eder Lara \t Edad:  39\n",
            "Nombre:  Helen Lara \t Edad:  11\n",
            "Nombre:  Tania Rodriguez \t Edad:  40\n",
            "Nombre:  Juan Porras \t Edad:  79\n"
          ]
        }
      ]
    },
    {
      "cell_type": "markdown",
      "source": [
        "# Ejercicios:\n",
        "\n",
        "\n",
        "1.   Crear una variable numérica < 9 y > 4\n",
        "2.   Crear una lista de números > -9\n",
        "3.   Elevar todos los elementos de la lista anterior al cuadrado y agruparlos en una sola lista diferente.\n",
        "4.   Crear una Secuencia con los números del 1 al 20\n",
        "5.   Escribir un programa que solicite un valor entero al usuario y determine si es par o impar.\n",
        "6.   En una empresa cada empleado debe teclear un código identificador de 3 cifras en la entrada. \n",
        "7.   Escribir un programa que muestre por pantalla la categoría del empleado teniendo en cuenta que:\n",
        " *  Si el código es divisible por 2, por 3 y por 5, la categoría del empleado es “Director general”.\n",
        "  * Si el código es divisible por 3 y por 5 pero no por 2, la categoría del empleado es “Directivo”.\n",
        "  * Si el código es divisible por 2, pero no por 3 ni por 5, la categoría del empleado es “Staff”.\n",
        "  * Si el código no es divisible por 2, ni por 3 ni por 5, la categoría del empleado es “Seguridad”.  \n",
        "  Recuerde que: Un numero X es divisible por otro Y; si X mod Y = 0.\n",
        "\n",
        "8.    La fecha del domingo de Pascua corresponde al primer domingo después de la primera luna llena que sigue al\n",
        "equinoccio de primavera. Dado un año, los cálculos que permiten conocer esta fecha son:\n",
        "    * A = año %19\n",
        "    * B = año % 4\n",
        "    * C = año % 7\n",
        "    * D = (19 * A + 24) % 30\n",
        "    * E = (2 * B + 4 * C + 6 * D + 5) % 7\n",
        "    * N = (22 + D + E)\n",
        "Donde N indica el número del día del mes de marzo (o abril si N es superior a 31) correspondiente al domingo de Pascua. \n",
        "\n",
        "Escribir un programa que lea un año y muestre el día y el mes en el que se celebró o se celebrará el domingo de Pascua ese año. \n",
        "Utilizar una función a la que se le pase como parámetro el año y retorne el valor de N. El programa principal realiza el resto del proceso.\n"
      ],
      "metadata": {
        "id": "zuf_KPvLgJUq"
      }
    }
  ]
}