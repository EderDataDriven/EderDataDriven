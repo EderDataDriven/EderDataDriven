{
  "nbformat": 4,
  "nbformat_minor": 0,
  "metadata": {
    "colab": {
      "name": "Python Basics.ipynb",
      "provenance": [],
      "authorship_tag": "ABX9TyNwODXlMhVFfODEldc9DoQT",
      "include_colab_link": true
    },
    "kernelspec": {
      "name": "python3",
      "display_name": "Python 3"
    },
    "language_info": {
      "name": "python"
    }
  },
  "cells": [
    {
      "cell_type": "markdown",
      "metadata": {
        "id": "view-in-github",
        "colab_type": "text"
      },
      "source": [
        "<a href=\"https://colab.research.google.com/github/EderDataDriven/EderDataDriven/blob/main/Python_Basics.ipynb\" target=\"_parent\"><img src=\"https://colab.research.google.com/assets/colab-badge.svg\" alt=\"Open In Colab\"/></a>"
      ]
    },
    {
      "cell_type": "markdown",
      "source": [
        "# Python \n",
        "Guía Rápida\n",
        "[PEP 8 ](https://ellibrodepython.com/python-pep8)"
      ],
      "metadata": {
        "id": "af-uWc-FpCHf"
      }
    },
    {
      "cell_type": "markdown",
      "source": [
        "# ¿Qué es python?\n",
        "Python es un lenguaje de programacion interpretado, multi paradigma y creado para hacer de la programación una implementación mas sencilla de sentencias."
      ],
      "metadata": {
        "id": "GNul20iqsRHb"
      }
    },
    {
      "cell_type": "markdown",
      "source": [
        "# Variables"
      ],
      "metadata": {
        "id": "zBzhLiW_538T"
      }
    },
    {
      "cell_type": "code",
      "execution_count": 33,
      "metadata": {
        "id": "cTjOqJRno9w7",
        "colab": {
          "base_uri": "https://localhost:8080/",
          "height": 35
        },
        "outputId": "324d20f6-469e-419e-97de-d448e377a036"
      },
      "outputs": [
        {
          "output_type": "execute_result",
          "data": {
            "text/plain": [
              "'este es un Mensaje'"
            ],
            "application/vnd.google.colaboratory.intrinsic+json": {
              "type": "string"
            }
          },
          "metadata": {},
          "execution_count": 33
        }
      ],
      "source": [
        "x = 2.4\n",
        "y = \"este es un Mensaje\"\n",
        "y"
      ]
    },
    {
      "cell_type": "code",
      "source": [
        "x"
      ],
      "metadata": {
        "colab": {
          "base_uri": "https://localhost:8080/"
        },
        "id": "FRViCBck6mUS",
        "outputId": "003284ce-97d9-436b-c332-b4379d32cd09"
      },
      "execution_count": 34,
      "outputs": [
        {
          "output_type": "execute_result",
          "data": {
            "text/plain": [
              "2.4"
            ]
          },
          "metadata": {},
          "execution_count": 34
        }
      ]
    },
    {
      "cell_type": "code",
      "source": [
        "print(x)\n",
        "print(y)"
      ],
      "metadata": {
        "colab": {
          "base_uri": "https://localhost:8080/"
        },
        "id": "s08q22Tn6qkB",
        "outputId": "6be5eb52-b98d-4050-eea4-485ffaec45ff"
      },
      "execution_count": 35,
      "outputs": [
        {
          "output_type": "stream",
          "name": "stdout",
          "text": [
            "2.4\n",
            "este es un Mensaje\n"
          ]
        }
      ]
    },
    {
      "cell_type": "code",
      "source": [
        "print(x, y)"
      ],
      "metadata": {
        "colab": {
          "base_uri": "https://localhost:8080/"
        },
        "id": "6ncqBlJu6x-W",
        "outputId": "c6692f3e-948e-4a00-fa32-0e6bd44b5ad7"
      },
      "execution_count": 36,
      "outputs": [
        {
          "output_type": "stream",
          "name": "stdout",
          "text": [
            "2.4 este es un Mensaje\n"
          ]
        }
      ]
    },
    {
      "cell_type": "code",
      "source": [
        "print(type(x))\n",
        "z = 2,2\n",
        "m = 2\n",
        "print(type(z))\n",
        "print(z)"
      ],
      "metadata": {
        "colab": {
          "base_uri": "https://localhost:8080/"
        },
        "id": "w5SK2Wg068Qf",
        "outputId": "98ac6757-c741-4ce1-8d8f-cfde49a72385"
      },
      "execution_count": 37,
      "outputs": [
        {
          "output_type": "stream",
          "name": "stdout",
          "text": [
            "<class 'float'>\n",
            "<class 'tuple'>\n",
            "(2, 2)\n"
          ]
        }
      ]
    },
    {
      "cell_type": "code",
      "source": [
        "z = 3\n",
        "z"
      ],
      "metadata": {
        "colab": {
          "base_uri": "https://localhost:8080/"
        },
        "id": "m-hcLI8-8qgx",
        "outputId": "5f10c0ae-90a4-4aef-8c73-2609da1d6135"
      },
      "execution_count": 38,
      "outputs": [
        {
          "output_type": "execute_result",
          "data": {
            "text/plain": [
              "3"
            ]
          },
          "metadata": {},
          "execution_count": 38
        }
      ]
    },
    {
      "cell_type": "code",
      "source": [
        "print(z)"
      ],
      "metadata": {
        "colab": {
          "base_uri": "https://localhost:8080/"
        },
        "id": "rVuNrK9884Zl",
        "outputId": "e8a48b79-6896-4a13-8d1a-ff6dafcda8ed"
      },
      "execution_count": 48,
      "outputs": [
        {
          "output_type": "stream",
          "name": "stdout",
          "text": [
            "3\n"
          ]
        }
      ]
    },
    {
      "cell_type": "markdown",
      "source": [
        "# Variables lógicas"
      ],
      "metadata": {
        "id": "7dwFZ6ow9YhL"
      }
    },
    {
      "cell_type": "code",
      "source": [
        "\"\"\"\n",
        "Comentario tipo Parrafo\n",
        "Lorem Ipsum is simply dummy text of the printing and typesetting industry. \n",
        "Lorem Ipsum has been the industry's standard dummy text ever since the 1500s, \n",
        "when an unknown printer took a galley of type and scrambled it to make a type specimen book. \n",
        "It has survived not only five centuries, but also the leap into electronic typesetting, \n",
        "remaining essentially unchanged. It was popularised in the 1960s with the release of L\n",
        "\"\"\"\n",
        "m = 2\n",
        "m\n",
        "# Comentario"
      ],
      "metadata": {
        "colab": {
          "base_uri": "https://localhost:8080/"
        },
        "id": "EkbLsF-a9Fvz",
        "outputId": "c6b246b1-d785-490c-f706-6c6835a8f3c9"
      },
      "execution_count": 51,
      "outputs": [
        {
          "output_type": "execute_result",
          "data": {
            "text/plain": [
              "2"
            ]
          },
          "metadata": {},
          "execution_count": 51
        }
      ]
    },
    {
      "cell_type": "code",
      "source": [
        ""
      ],
      "metadata": {
        "id": "cRHTTdyZ-cDh"
      },
      "execution_count": null,
      "outputs": []
    }
  ]
}