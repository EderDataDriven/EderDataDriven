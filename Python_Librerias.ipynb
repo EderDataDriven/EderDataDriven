{
  "nbformat": 4,
  "nbformat_minor": 0,
  "metadata": {
    "colab": {
      "name": "Python Librerias.ipynb",
      "provenance": [],
      "authorship_tag": "ABX9TyO35nX4F5SapfW+jhwJUH57",
      "include_colab_link": true
    },
    "kernelspec": {
      "name": "python3",
      "display_name": "Python 3"
    },
    "language_info": {
      "name": "python"
    }
  },
  "cells": [
    {
      "cell_type": "markdown",
      "metadata": {
        "id": "view-in-github",
        "colab_type": "text"
      },
      "source": [
        "<a href=\"https://colab.research.google.com/github/EderDataDriven/EderDataDriven/blob/main/Python_Librerias.ipynb\" target=\"_parent\"><img src=\"https://colab.research.google.com/assets/colab-badge.svg\" alt=\"Open In Colab\"/></a>"
      ]
    },
    {
      "cell_type": "markdown",
      "source": [
        "# Librerias\n",
        "\n",
        "Las librerias (o paquetes) son colecciones de funciones, métodos y objetos desarrollados por terceras personas, pero que pueden ser utilizadas por cualquier persona que posea Python, y que buscan atacar una necesidad de análisis específica.\n",
        "\n",
        "Como se mencionó, este aspecto constituye una importante fortaleza de los lenguajes open source.\n",
        "\n",
        "En este curso, se utilizarán distintas librerias, entre las que se destacan\n",
        "\n",
        "* numpy: análisis numérico\n",
        "* pandas: manipulacion de tablas de datos\n",
        "* matplotlib: visualización\n",
        "\n",
        "Empecemos conociendo un poco de numpy, y aprovechemos para saber como importar (o cargar) una libreria en Python"
      ],
      "metadata": {
        "id": "vFuYt5-ieW_C"
      }
    },
    {
      "cell_type": "code",
      "execution_count": 5,
      "metadata": {
        "id": "tDQ7cIpMeVXB"
      },
      "outputs": [],
      "source": [
        "# Importamos la libreria:\n",
        "import numpy as np"
      ]
    },
    {
      "cell_type": "markdown",
      "source": [
        "Objeto ndarray"
      ],
      "metadata": {
        "id": "goApq2_YfjMF"
      }
    },
    {
      "cell_type": "code",
      "source": [
        "# Crear una lista de listas:\n",
        "compras = [ ['Cebolla', 'Tomate', 'Papa'], ['Naranjas', 'Manzanas', 'Peras'], ['Aceite', 'Sal', 'Condimentos'], ['Detergente', 'Jabon', 'Shampoo'] ]\n",
        "print(compras)\n",
        "print(type(compras))"
      ],
      "metadata": {
        "colab": {
          "base_uri": "https://localhost:8080/"
        },
        "id": "n2igoKzofcGF",
        "outputId": "5454b58a-7a1a-4fbd-8ec8-127aa2c6b97a"
      },
      "execution_count": 3,
      "outputs": [
        {
          "output_type": "stream",
          "name": "stdout",
          "text": [
            "[['Cebolla', 'Tomate', 'Papa'], ['Naranjas', 'Manzanas', 'Peras'], ['Aceite', 'Sal', 'Condimentos'], ['Detergente', 'Jabon', 'Shampoo']]\n",
            "<class 'list'>\n"
          ]
        }
      ]
    },
    {
      "cell_type": "code",
      "source": [
        "# Transformamos la lista en arreglo:\n",
        "compras_array = np.array(compras)\n",
        "print(compras_array)\n",
        "print(type(compras_array))"
      ],
      "metadata": {
        "colab": {
          "base_uri": "https://localhost:8080/"
        },
        "id": "BwTnRMQFga6P",
        "outputId": "adbfbe07-b313-459e-d10f-39a6207d2946"
      },
      "execution_count": 9,
      "outputs": [
        {
          "output_type": "stream",
          "name": "stdout",
          "text": [
            "[['Cebolla' 'Tomate' 'Papa']\n",
            " ['Naranjas' 'Manzanas' 'Peras']\n",
            " ['Aceite' 'Sal' 'Condimentos']\n",
            " ['Detergente' 'Jabon' 'Shampoo']]\n",
            "<class 'numpy.ndarray'>\n"
          ]
        }
      ]
    },
    {
      "cell_type": "code",
      "source": [
        "compras_array.ndim"
      ],
      "metadata": {
        "colab": {
          "base_uri": "https://localhost:8080/"
        },
        "id": "_M0Vq2SuhEcp",
        "outputId": "e78b24a1-0eff-41d4-c6c3-6161452fefce"
      },
      "execution_count": 10,
      "outputs": [
        {
          "output_type": "execute_result",
          "data": {
            "text/plain": [
              "2"
            ]
          },
          "metadata": {},
          "execution_count": 10
        }
      ]
    },
    {
      "cell_type": "code",
      "source": [
        "compras_array.shape"
      ],
      "metadata": {
        "colab": {
          "base_uri": "https://localhost:8080/"
        },
        "id": "4KCP1PcrhSSo",
        "outputId": "3134ec9a-788c-462c-e0fa-3435104f7119"
      },
      "execution_count": 11,
      "outputs": [
        {
          "output_type": "execute_result",
          "data": {
            "text/plain": [
              "(4, 3)"
            ]
          },
          "metadata": {},
          "execution_count": 11
        }
      ]
    },
    {
      "cell_type": "code",
      "source": [
        "# Cambiar las dimensiones del array:\n",
        "compras_array.reshape(6,2)"
      ],
      "metadata": {
        "colab": {
          "base_uri": "https://localhost:8080/"
        },
        "id": "SLWHDrM9hfmy",
        "outputId": "957f6049-7b8b-4d09-fd1f-c274a6fcd492"
      },
      "execution_count": 12,
      "outputs": [
        {
          "output_type": "execute_result",
          "data": {
            "text/plain": [
              "array([['Cebolla', 'Tomate'],\n",
              "       ['Papa', 'Naranjas'],\n",
              "       ['Manzanas', 'Peras'],\n",
              "       ['Aceite', 'Sal'],\n",
              "       ['Condimentos', 'Detergente'],\n",
              "       ['Jabon', 'Shampoo']], dtype='<U11')"
            ]
          },
          "metadata": {},
          "execution_count": 12
        }
      ]
    },
    {
      "cell_type": "code",
      "source": [
        "# Combertir dimensiones a una sola fila:\n",
        "compras_array.flatten()"
      ],
      "metadata": {
        "colab": {
          "base_uri": "https://localhost:8080/"
        },
        "id": "HhK-4t1ch90U",
        "outputId": "7404eb4e-423c-4458-ef30-efe922daca9c"
      },
      "execution_count": 13,
      "outputs": [
        {
          "output_type": "execute_result",
          "data": {
            "text/plain": [
              "array(['Cebolla', 'Tomate', 'Papa', 'Naranjas', 'Manzanas', 'Peras',\n",
              "       'Aceite', 'Sal', 'Condimentos', 'Detergente', 'Jabon', 'Shampoo'],\n",
              "      dtype='<U11')"
            ]
          },
          "metadata": {},
          "execution_count": 13
        }
      ]
    },
    {
      "cell_type": "code",
      "source": [
        "arr = np.array([10,2,9,17])\n",
        "arr.sort()\n",
        "print(arr)"
      ],
      "metadata": {
        "colab": {
          "base_uri": "https://localhost:8080/"
        },
        "id": "ClhmKSvbiVQl",
        "outputId": "5f95dc4c-06ff-4a8b-be21-6db1591f8cae"
      },
      "execution_count": 17,
      "outputs": [
        {
          "output_type": "stream",
          "name": "stdout",
          "text": [
            "[ 2  9 10 17]\n"
          ]
        }
      ]
    },
    {
      "cell_type": "code",
      "source": [
        "arr.size"
      ],
      "metadata": {
        "colab": {
          "base_uri": "https://localhost:8080/"
        },
        "id": "8TraXZ0TitF5",
        "outputId": "2eb9e417-d7b5-416f-a6ae-5c00204dddba"
      },
      "execution_count": 18,
      "outputs": [
        {
          "output_type": "execute_result",
          "data": {
            "text/plain": [
              "4"
            ]
          },
          "metadata": {},
          "execution_count": 18
        }
      ]
    },
    {
      "cell_type": "code",
      "source": [
        "len(arr)"
      ],
      "metadata": {
        "colab": {
          "base_uri": "https://localhost:8080/"
        },
        "id": "rSd5KTM4izlj",
        "outputId": "93936e84-7387-4de8-88fa-df22a83e5b35"
      },
      "execution_count": 19,
      "outputs": [
        {
          "output_type": "execute_result",
          "data": {
            "text/plain": [
              "4"
            ]
          },
          "metadata": {},
          "execution_count": 19
        }
      ]
    },
    {
      "cell_type": "markdown",
      "source": [
        "## Funciones Matemáticas en NumPy"
      ],
      "metadata": {
        "id": "UgzHTWKGi-WA"
      }
    },
    {
      "cell_type": "code",
      "source": [
        "# Crear 2 arreglos numericos\n",
        "a1 = np.array([9,7,5,2,1,6,9])\n",
        "a2 = np.array([8,3,1,9,0,2,1])\n",
        "print(a1)\n",
        "print(a2)"
      ],
      "metadata": {
        "colab": {
          "base_uri": "https://localhost:8080/"
        },
        "id": "WpKjQMWNi3Ia",
        "outputId": "69a09878-5ab8-4520-b93d-1615362b4641"
      },
      "execution_count": 21,
      "outputs": [
        {
          "output_type": "stream",
          "name": "stdout",
          "text": [
            "[9 7 5 2 1 6 9]\n",
            "[8 3 1 9 0 2 1]\n"
          ]
        }
      ]
    }
  ]
}